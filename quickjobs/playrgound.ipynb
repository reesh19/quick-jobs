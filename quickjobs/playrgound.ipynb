{
 "cells": [
  {
   "cell_type": "code",
   "execution_count": 1,
   "metadata": {},
   "outputs": [
    {
     "name": "stdout",
     "output_type": "stream",
     "text": [
      "Building queries...\n",
      "Done!\n",
      "Execute .crawl(), then check inspect with .get_info()\n"
     ]
    }
   ],
   "source": [
    "from quickjobs import QuickJobs\n",
    "\n",
    "qj = QuickJobs(job_titles='ds')"
   ]
  },
  {
   "cell_type": "code",
   "execution_count": 2,
   "metadata": {},
   "outputs": [],
   "source": [
    "qj.crawl()"
   ]
  },
  {
   "cell_type": "code",
   "execution_count": 3,
   "metadata": {},
   "outputs": [
    {
     "name": "stdout",
     "output_type": "stream",
     "text": [
      "Found 42 new jobs in the past 5 days.\n",
      "\n",
      "\n",
      "Counts\n",
      "----------------\n",
      "lever: 17\n",
      "workable: 5\n",
      "greenhouse: 8\n",
      "jobvite: 2\n",
      "builtin: 9\n",
      "other: 0\n",
      "crawl_error: 1\n",
      "\n",
      "\n",
      "Errors\n",
      "----------------\n",
      "https://apply.workable.com/dext/j/4344D13AD4: [Errno Expecting value] Job not found: 0\n"
     ]
    },
    {
     "ename": "TypeError",
     "evalue": "__str__ returned non-string (type NoneType)",
     "output_type": "error",
     "traceback": [
      "\u001b[0;31m---------------------------------------------------------------------------\u001b[0m",
      "\u001b[0;31mTypeError\u001b[0m                                 Traceback (most recent call last)",
      "\u001b[1;32m/Users/reesh/Projects/qj/quickjobs/playrgound.ipynb Cell 3'\u001b[0m in \u001b[0;36m<module>\u001b[0;34m\u001b[0m\n\u001b[0;32m----> <a href='vscode-notebook-cell:/Users/reesh/Projects/qj/quickjobs/playrgound.ipynb#ch0000021?line=0'>1</a>\u001b[0m \u001b[39mprint\u001b[39;49m(qj)\n",
      "\u001b[0;31mTypeError\u001b[0m: __str__ returned non-string (type NoneType)"
     ]
    }
   ],
   "source": [
    "print(qj)"
   ]
  },
  {
   "cell_type": "code",
   "execution_count": 4,
   "metadata": {},
   "outputs": [
    {
     "ename": "KeyError",
     "evalue": "'firstname'",
     "output_type": "error",
     "traceback": [
      "\u001b[0;31m---------------------------------------------------------------------------\u001b[0m",
      "\u001b[0;31mKeyError\u001b[0m                                  Traceback (most recent call last)",
      "\u001b[1;32m/Users/reesh/Projects/qj/quickjobs/playrgound.ipynb Cell 4'\u001b[0m in \u001b[0;36m<module>\u001b[0;34m\u001b[0m\n\u001b[0;32m----> <a href='vscode-notebook-cell:/Users/reesh/Projects/qj/quickjobs/playrgound.ipynb#ch0000018?line=0'>1</a>\u001b[0m qj\u001b[39m.\u001b[39;49mworkable_apps()\n",
      "File \u001b[0;32m~/Projects/qj/quickjobs/quickjobs.py:622\u001b[0m, in \u001b[0;36mQuickJobs.workable_apps\u001b[0;34m(self)\u001b[0m\n\u001b[1;32m    <a href='file:///Users/reesh/Projects/qj/quickjobs/quickjobs.py?line=618'>619</a>\u001b[0m time\u001b[39m.\u001b[39msleep(\u001b[39m2\u001b[39m)\n\u001b[1;32m    <a href='file:///Users/reesh/Projects/qj/quickjobs/quickjobs.py?line=620'>621</a>\u001b[0m firstname \u001b[39m=\u001b[39m browser\u001b[39m.\u001b[39mfind_element(By\u001b[39m.\u001b[39mNAME, \u001b[39m'\u001b[39m\u001b[39mfirstname\u001b[39m\u001b[39m'\u001b[39m)\n\u001b[0;32m--> <a href='file:///Users/reesh/Projects/qj/quickjobs/quickjobs.py?line=621'>622</a>\u001b[0m firstname\u001b[39m.\u001b[39msend_keys(\u001b[39mself\u001b[39;49m\u001b[39m.\u001b[39;49mmy_info[\u001b[39m'\u001b[39;49m\u001b[39mfirstname\u001b[39;49m\u001b[39m'\u001b[39;49m])\n\u001b[1;32m    <a href='file:///Users/reesh/Projects/qj/quickjobs/quickjobs.py?line=623'>624</a>\u001b[0m lastname \u001b[39m=\u001b[39m browser\u001b[39m.\u001b[39mfind_element(By\u001b[39m.\u001b[39mNAME, \u001b[39m'\u001b[39m\u001b[39mlastname\u001b[39m\u001b[39m'\u001b[39m)\n\u001b[1;32m    <a href='file:///Users/reesh/Projects/qj/quickjobs/quickjobs.py?line=624'>625</a>\u001b[0m lastname\u001b[39m.\u001b[39msend_keys(\u001b[39mself\u001b[39m\u001b[39m.\u001b[39mmy_info[\u001b[39m'\u001b[39m\u001b[39mlastname\u001b[39m\u001b[39m'\u001b[39m])\n",
      "\u001b[0;31mKeyError\u001b[0m: 'firstname'"
     ]
    }
   ],
   "source": [
    "qj.workable_apps()"
   ]
  },
  {
   "cell_type": "code",
   "execution_count": 8,
   "metadata": {},
   "outputs": [
    {
     "data": {
      "text/plain": [
       "{'https://boards.greenhouse.io/tigergraph/jobs/4135646/#app': 'data scientist consultant (central)- remote austin, tx',\n",
       " 'https://boards.greenhouse.io/criticalideas/jobs/5072890003/#app': 'data analyst, product and marketing us-remote',\n",
       " 'https://boards.greenhouse.io/bolt42/jobs/4432329004/#app': 'staff machine learning engineer, recommendations, ranking and personalization canada (remote eligible)',\n",
       " 'https://boards.greenhouse.io/github/jobs/4120042?t=2b6677b71us/#app': 'machine learning engineer, copilot model improvements remote - canada',\n",
       " 'https://boards.greenhouse.io/accuweather/jobs/4014527/#app': 'junior data analyst remote or state college, pa',\n",
       " 'https://boards.greenhouse.io/acquco/jobs/4424943004?gh_src=22bac2e94us/#app': 'data analyst - operations seattle, washington (remote)',\n",
       " 'https://boards.greenhouse.io/juullabs/jobs/4065461/#app': 'data analyst, chemistry and regulatory testing remote - united states',\n",
       " 'https://boards.greenhouse.io/lyft/jobs/6029120002?gh_jid=6029120002/#app': 'data analyst, revenue growth montreal, canada'}"
      ]
     },
     "execution_count": 8,
     "metadata": {},
     "output_type": "execute_result"
    }
   ],
   "source": [
    "qj.greenhouse"
   ]
  },
  {
   "cell_type": "code",
   "execution_count": 9,
   "metadata": {},
   "outputs": [
    {
     "data": {
      "text/plain": [
       "{'https://jobs.jobvite.com/the-climate-corporation/job/oDthjfwq/apply/': 'geospatial data scientist chicago,illinoissanfrancisco,californiaseattle,washingtonst.louis,missouri',\n",
       " 'https://jobs.jobvite.com/nrao/job/oUEfjfwQ/apply/': 'scientific data analyst i-iii (4719) observatoryserviceandsciencecharlottesville,virginia'}"
      ]
     },
     "execution_count": 9,
     "metadata": {},
     "output_type": "execute_result"
    }
   ],
   "source": [
    "qj.jobvite"
   ]
  },
  {
   "cell_type": "code",
   "execution_count": 30,
   "metadata": {},
   "outputs": [
    {
     "name": "stdout",
     "output_type": "stream",
     "text": [
      "https://jobs.lever.co/scienceexchange/75a4c9c3-7a7b-4c9d-93ac-7fbf1575a4cf/apply: business / data analyst (remote)palo alto /product /full-time paloalto/\n",
      "https://jobs.lever.co/directly/867713d9-81f9-4354-a87d-bdcd7052e98b/apply: data analyst - (remote ok - usa only)remote usa /css ondemand – ondemand answers /full-time (remote ok - usa only) remoteusa/\n",
      "https://jobs.lever.co/marketer-hire/7e299b80-6776-4355-b786-0cdfc75fc11c/apply: data scientist remote-usa/\n",
      "https://jobs.lever.co/MissionWired/aa6e6845-3ecb-49c8-b509-3f045c92b66c/apply: associate data scientist washington,dc-remoteflexibility/\n",
      "https://jobs.lever.co/nielsen/7d738ba7-fa0d-4d3e-9d47-0b20ded4d5d9/apply: data analyst (remote working uk based) oxford,unitedkingdom/\n",
      "https://jobs.lever.co/eleks/73ebf117-1177-4289-bb4e-f89f5e3b2f0a/apply: data scientist, #tscm-26070 remote(europe)/\n",
      "https://jobs.lever.co/Horizon/deb26c76-df20-461c-802f-9a27d8a552ce/apply: data analyst in blockchain (sequence) - remotetoronto, on /product /remote toronto,on/\n",
      "https://jobs.lever.co/wattpad/69467a55-7e8f-4fad-b85c-221092b366fa/apply: machine learning engineerremote /wattpad – data /full-time remote/\n",
      "https://jobs.lever.co/BAMTradingServices/ab23cdea-a873-4e7d-b589-67f9f931d652/apply: customer support data analyst u.s.remote/\n",
      "https://jobs.lever.co/MoonshotBrands/54845337-4cbd-490a-9b46-b09e09349dc0/apply: machine learning engineer remote(us&canada)/\n",
      "https://jobs.lever.co/lumapictures/6317f0ff-e167-4dab-8297-ce0fd4e9675a/apply: python data analyst losangeles,usa/\n",
      "https://jobs.lever.co/spendesk/7b677e37-c34b-469e-9b0f-8d1440a22cbb/apply: data scientist paris/\n",
      "https://jobs.lever.co/varomoney/1b58d2c5-ac7d-44a5-bd42-6ef1ff32c353/apply: financial crime data scientist & modeler usremote/\n",
      "https://jobs.lever.co/claypot/7b38b49f-baa4-42b6-a58f-bab6532e51b9/apply: founding engineer (machine learning)san francisco, ca /engineering /full-time (remote) sanfrancisco,ca/\n",
      "https://jobs.lever.co/xilis/fface79b-4682-4b84-a19e-837fac994301/apply: data scientist intern unitedstates/\n",
      "https://jobs.lever.co/quantcast/ab1ebb3c-7300-4dc9-8722-ae5cdd655958/apply: machine learning intern (london) london/\n",
      "https://jobs.lever.co/guidewire/e09e6f76-d39e-4325-a97a-8054925df002/apply: business data analyst unitedstates-remote/\n",
      "https://jobs.lever.co/TheAudioProgrammer/49e6013e-c85d-47b8-81a2-131b6038c0f8/apply: machine learning engineerremote /machine learning /other remote/\n",
      "https://jobs.lever.co/modustitle/40e5be16-7f5b-444f-bac4-5318e9d075c3/apply: data analyst, enterprise systems seattle,wa/\n",
      "https://jobs.lever.co/tealbook/f2ad91c5-41c0-47fc-814b-9dd7e33a8f33/apply: poc solutions consultant canada/\n",
      "\n",
      "\n",
      "https://apply.workable.com/assemblyai/j/6CF8A58478/apply/: developer educator, machine learning (remote) united states, us, san francisco, california\n",
      "https://apply.workable.com/jellyfish-group-ltd/j/CF47B9B245/apply/: data scientist - chicago, il united states, us, chicago, illinois\n",
      "\n",
      "\n",
      "https://boards.greenhouse.io/theoakleafgroupllc/jobs/4005415005/#app: data scientist / quantitative modeler / econometrics remote\n",
      "https://boards.greenhouse.io/criticalideas/jobs/5072890003/#app: data analyst, product and marketing us-remote\n",
      "https://boards.greenhouse.io/bolt42/jobs/4432329004/#app: staff machine learning engineer, recommendations, ranking and personalization canada (remote eligible)\n",
      "https://boards.greenhouse.io/github/jobs/4120042?t=2b6677b71us/#app: machine learning engineer, copilot model improvements remote - canada\n",
      "https://boards.greenhouse.io/bolt42/jobs/4432300004/#app: staff machine learning engineer, recommendations, ranking and personalization united states (remote eligible)\n",
      "https://boards.greenhouse.io/accuweather/jobs/4014527/#app: junior data analyst remote or state college, pa\n",
      "https://boards.greenhouse.io/bolt42/jobs/4431956004/#app: engineering manager, data science and machine learning united states (remote eligible)\n",
      "https://boards.greenhouse.io/acquco/jobs/4424943004?gh_src=22bac2e94us/#app: data analyst - operations seattle, washington (remote)\n",
      "https://boards.greenhouse.io/lyft/jobs/6029120002?gh_jid=6029120002/#app: data analyst, revenue growth montreal, canada\n",
      "https://boards.greenhouse.io/lemoncash/jobs/4411295004/#app: data analyst buenos aires / remote\n",
      "\n",
      "\n",
      "https://jobs.jobvite.com/the-climate-corporation/job/oDthjfwq/apply/: geospatial data scientist chicago,illinoissanfrancisco,californiaseattle,washingtonst.louis,missouri\n",
      "https://jobs.jobvite.com/nrao/job/oUEfjfwQ/apply/: scientific data analyst i-iii (4719) observatoryserviceandsciencecharlottesville,virginia\n",
      "https://jobs.jobvite.com/webmd/job/ohqgjfw0/apply/: data scientist         job id 2022-4082 marketresearch&analyticsunitedkingdom\n",
      "\n",
      "\n",
      "https://builtin.com/job/data/operations-data-analyst-remote/884642: operations data analyst (remote) in omaha, nebraska, united states\n",
      "https://builtin.com/job/data/data-scientist/792031: data scientist  - career portal\n",
      "https://builtin.com/job/data/data-scientist-casual-culture-omaha/883409: data scientist + casual culture + omaha job in omaha, ne | careerlink\n",
      "https://builtin.com/job/internship/software-engineering-intern/874515: builtin-redirect\n",
      "https://builtin.com/job/internship/devops-intern/871623: builtin-redirect\n",
      "https://builtin.com/job/internship/devops-intern/874516: builtin-redirect\n",
      "\n",
      "\n",
      "\n",
      "\n"
     ]
    }
   ],
   "source": [
    "_ = [qj.lever, qj.workable, qj.greenhouse, qj.jobvite, qj.builtin, qj.other]\n",
    "for i in _:\n",
    "    for k, v in i.items():\n",
    "        print(f'{k}: {v}')\n",
    "    print('\\n')\n"
   ]
  },
  {
   "cell_type": "code",
   "execution_count": null,
   "metadata": {},
   "outputs": [],
   "source": []
  }
 ],
 "metadata": {
  "interpreter": {
   "hash": "b06b7587aa86c2efa03a5205e6bb0faee16c2bbf6c7b09347ab7cb9a7222dc97"
  },
  "kernelspec": {
   "display_name": "Python 3.10.2 ('qj-8DnUKxgI')",
   "language": "python",
   "name": "python3"
  },
  "language_info": {
   "codemirror_mode": {
    "name": "ipython",
    "version": 3
   },
   "file_extension": ".py",
   "mimetype": "text/x-python",
   "name": "python",
   "nbconvert_exporter": "python",
   "pygments_lexer": "ipython3",
   "version": "3.10.2"
  },
  "orig_nbformat": 4
 },
 "nbformat": 4,
 "nbformat_minor": 2
}
