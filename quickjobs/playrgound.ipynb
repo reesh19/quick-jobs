{
 "cells": [
  {
   "cell_type": "code",
   "execution_count": null,
   "metadata": {},
   "outputs": [],
   "source": [
    "from quickjobs import QuickJobs\n",
    "# from bs4 import BeautifulSoup as bs\n",
    "# import requests\n",
    "\n",
    "qj = QuickJobs(multiple_hires=False, n_days=2)\n",
    "\n",
    "# atts = list(qj.__dict__.keys())\n",
    "print()\n",
    "num_atts = ['max_results', 'n_days']\n",
    "text_attrs = ['queries', 'new_jobs', 'old_jobs', 'crawl_error']\n",
    "for i in num_atts:\n",
    "    print(f\"{i} : {getattr(qj, i)}\")\n",
    "\n",
    "for i in text_attrs:\n",
    "    print(f\"{i} : {len(getattr(qj, i))}\")\n",
    "print()\n",
    "print(qj.queries[0])\n"
   ]
  },
  {
   "cell_type": "code",
   "execution_count": null,
   "metadata": {},
   "outputs": [],
   "source": [
    "# %store -r\n",
    "# qj.lever = lever\n",
    "# qj.workable = workable\n",
    "# qj.greenhouse = greenhouse\n",
    "# qj.jobvite = jobvite\n",
    "# qj.builtin = builtin\n",
    "# qj.other = other"
   ]
  },
  {
   "cell_type": "code",
   "execution_count": 18,
   "metadata": {},
   "outputs": [],
   "source": [
    "def bloomurls():\n",
    "    bloom_urls = \"\"\"\n",
    "    \"\"\"\n",
    "    bloom_urls = bloom_urls.split('\\n')\n",
    "    for _ in bloom_urls:\n",
    "        \n",
    "        _url = qj.clean_url(_)\n",
    "        \n",
    "        if 'lever' in _url:\n",
    "            qj.lever[_url] = ''\n",
    "        \n",
    "        elif 'greenhouse' in _url:\n",
    "            qj.greenhouse[_url] = ''\n",
    "        \n",
    "        elif 'workable' in _url:\n",
    "            qj.workable[_url] = ''\n",
    "        \n",
    "        elif 'jobvite' in _url:\n",
    "            qj.jobvite[_url] = ''\n",
    "        \n",
    "        elif 'builtin' in _url:\n",
    "            qj.builtin[_url] = ''\n",
    "        \n",
    "        else:\n",
    "            qj.other[_url] = ''\n",
    "    \n",
    "    return"
   ]
  },
  {
   "cell_type": "code",
   "execution_count": null,
   "metadata": {},
   "outputs": [],
   "source": [
    "# safari_urls = \"\"\n",
    "# jobs = safari_urls.split('\\n')\n",
    "\n",
    "# jobs = [x for x in jobs if x.startswith('https')]\n",
    "\n",
    "# notbuilt = jobs[:10]\n",
    "# built = jobs[10:-1]\n",
    "\n",
    "# qj.external_urls(built)"
   ]
  },
  {
   "cell_type": "code",
   "execution_count": 20,
   "metadata": {},
   "outputs": [
    {
     "name": "stdout",
     "output_type": "stream",
     "text": [
      "Found 109 new jobs in the past 2 days.\n",
      "\n",
      "\n",
      "Counts\n",
      "----------------\n",
      "lever: 30\n",
      "workable: 5\n",
      "greenhouse: 37\n",
      "jobvite: 4\n",
      "builtin: 1\n",
      "other: 27\n",
      "crawl_error: 5\n",
      "\n",
      "\n",
      "Errors\n",
      "----------------\n",
      "https://apply.workable.com/weatherxm-1/: No job id found\n",
      "https://boards.greenhouse.io/upwork/jobs/5068133003: 'NoneType' object has no attribute 'text'\n",
      "https://boards.greenhouse.io/upwork/jobs/5083448003: 'NoneType' object has no attribute 'text'\n",
      "https://boards.greenhouse.io/lingolive: 'NoneType' object has no attribute 'text'\n",
      "https://jobs.jobvite.com/benefitfocus/job/o4KAjfwr: 'NoneType' object has no attribute 'text'\n",
      "None\n"
     ]
    }
   ],
   "source": [
    "qj.max_results=50\n",
    "qj.crawl()\n",
    "print(qj)\n",
    "\n",
    "# lever = qj.lever\n",
    "# greenhouse = qj.greenhouse\n",
    "# workable = qj.workable\n",
    "# jobvite = qj.jobvite\n",
    "# builtin = qj.builtin\n",
    "# other = qj.other\n",
    "\n",
    "# %store lever greenhouse workable jobvite builtin other"
   ]
  },
  {
   "cell_type": "code",
   "execution_count": 27,
   "metadata": {},
   "outputs": [],
   "source": [
    "import time\n",
    "# qj.lever_apps()\n",
    "# qj.workable_apps()\n",
    "# qj.greenhouse_apps()\n",
    "# qj.jobvite_apps()\n",
    "# qj.builtin_apps()\n",
    "qj.other_apps()\n",
    "for i in qj.other.keys():\n",
    "    if '?' in i:\n",
    "        i = i.split('?')[0]\n",
    "    !open $i"
   ]
  },
  {
   "cell_type": "code",
   "execution_count": null,
   "metadata": {},
   "outputs": [],
   "source": [
    "s = ''\n",
    "\n",
    "for i in qj.other.keys():\n",
    "    s += f\"\"\"'{i}' \"\"\"\n",
    "\n",
    "!open $s"
   ]
  },
  {
   "cell_type": "code",
   "execution_count": null,
   "metadata": {},
   "outputs": [],
   "source": [
    "# %store -r\n",
    "# qj.lever = lever \n",
    "# qj.workable = workable\n",
    "# qj.jobvite = jobvite\n",
    "# qj.builtin = builtin\n",
    "# qj.greenhouse = greenhouse\n",
    "# qj.other = other"
   ]
  },
  {
   "cell_type": "code",
   "execution_count": null,
   "metadata": {},
   "outputs": [],
   "source": [
    "# import json\n",
    "# path = '/Users/reesh/Projects/qj/quickjobs/data/servers.geojson'\n",
    "# with open(path, 'r') as f:\n",
    "#     servers = json.load(f)\n",
    "\n",
    "# hosts = {i:servers[i]['properties']['hostname'] for i in range(len(servers))}\n",
    "#                                     # if servers[i]['properties']['hostname']}\n",
    "# _se = {i:servers[i]['properties']['hostname'] for i in range(len(servers)) if servers[i]['properties']['hostname']}\n",
    "# _se"
   ]
  },
  {
   "cell_type": "code",
   "execution_count": null,
   "metadata": {},
   "outputs": [],
   "source": [
    "# import time\n",
    "# import requests\n",
    "# from googlesearch import search\n",
    "# from bs4 import BeautifulSoup as bs\n",
    "\n",
    "\n",
    "# def gcrawl(query):\n",
    "#     session = requests.Session()\n",
    "#     session.headers['User-Agent'] = qj.agent\n",
    "\n",
    "#     results = dict()\n",
    "#     errors = dict()\n",
    "    \n",
    "#     for url in search(query=query, stop=20, pause=2, user_agent=qj.agent):\n",
    "#         if url not in results:\n",
    "#             try:\n",
    "#                 req = session.get(url)\n",
    "#                 soup = bs(req.content, 'html.parser')\n",
    "#                 results[url] = soup\n",
    "\n",
    "#             except Exception as e:\n",
    "#                 errors[url] = e\n",
    "    \n",
    "#         time.sleep(qj.rand)\n",
    "\n",
    "#     return results, errors"
   ]
  },
  {
   "cell_type": "code",
   "execution_count": null,
   "metadata": {},
   "outputs": [],
   "source": [
    "\"bassinet\" OR \"Bassinet\" site:jobs.lever.co/* after:2022-05-17"
   ]
  }
 ],
 "metadata": {
  "interpreter": {
   "hash": "b06b7587aa86c2efa03a5205e6bb0faee16c2bbf6c7b09347ab7cb9a7222dc97"
  },
  "kernelspec": {
   "display_name": "Python 3.10.2 ('qj-8DnUKxgI')",
   "language": "python",
   "name": "python3"
  },
  "language_info": {
   "codemirror_mode": {
    "name": "ipython",
    "version": 3
   },
   "file_extension": ".py",
   "mimetype": "text/x-python",
   "name": "python",
   "nbconvert_exporter": "python",
   "pygments_lexer": "ipython3",
   "version": "3.10.4"
  },
  "orig_nbformat": 4
 },
 "nbformat": 4,
 "nbformat_minor": 2
}
