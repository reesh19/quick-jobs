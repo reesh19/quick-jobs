{
 "cells": [
  {
   "cell_type": "code",
   "execution_count": 1,
   "metadata": {},
   "outputs": [],
   "source": [
    "from quickjobs import QuickJobs"
   ]
  },
  {
   "cell_type": "code",
   "execution_count": 2,
   "metadata": {},
   "outputs": [],
   "source": [
    "qj = QuickJobs(job_titles='ds')"
   ]
  },
  {
   "cell_type": "code",
   "execution_count": 3,
   "metadata": {},
   "outputs": [
    {
     "name": "stdout",
     "output_type": "stream",
     "text": [
      "Found 0 new jobs in the past 5 days. \n",
      "\n",
      "Lever : 10\n",
      "Workable : 0\n",
      "Greenhouse : 12\n",
      "Jobvite : 3\n",
      "Builtin : 0\n",
      "Other : 7\n"
     ]
    }
   ],
   "source": [
    "if qj.queries:\n",
    "    qj.crawl()\n",
    "\n",
    "    print(qj, '\\n')\n",
    "\n",
    "    for i, j in zip(['Lever', 'Workable', 'Greenhouse', 'Jobvite', 'Builtin', 'Other'],[qj.lever, qj.workable, qj.greenhouse, qj.jobvite, qj.builtin, qj.other]):\n",
    "        print(f'{i} : {len(j)}')"
   ]
  },
  {
   "cell_type": "code",
   "execution_count": 4,
   "metadata": {},
   "outputs": [
    {
     "data": {
      "text/plain": [
       "62"
      ]
     },
     "execution_count": 4,
     "metadata": {},
     "output_type": "execute_result"
    }
   ],
   "source": [
    "len(qj.crawl_error)"
   ]
  },
  {
   "cell_type": "code",
   "execution_count": 16,
   "metadata": {},
   "outputs": [
    {
     "name": "stdout",
     "output_type": "stream",
     "text": [
      "https://jobs.lever.co/nielsen/7d738ba7-fa0d-4d3e-9d47-0b20ded4d5d9/apply: 'NoneType' object has no attribute 'text'\n",
      "https://jobs.lever.co/wattpad/69467a55-7e8f-4fad-b85c-221092b366fa/apply?utm_source=arbeitnow.com&lever-origin=applied&lever-source%5B%5D=arbeitnow.com: 'NoneType' object has no attribute 'text'\n",
      "https://jobs.lever.co/Horizon/deb26c76-df20-461c-802f-9a27d8a552ce/apply: 'NoneType' object has no attribute 'text'\n",
      "https://jobs.lever.co/MoonshotBrands/54845337-4cbd-490a-9b46-b09e09349dc0/apply: 'NoneType' object has no attribute 'text'\n",
      "https://jobs.lever.co/fullstacklabs/25e8b91a-055c-4516-8657-55051ccc6873/apply: 'NoneType' object has no attribute 'text'\n",
      "https://jobs.lever.co/claypot/7b38b49f-baa4-42b6-a58f-bab6532e51b9/apply: 'NoneType' object has no attribute 'text'\n",
      "https://jobs.lever.co/piepacker/44a3276e-6ef1-4daf-8469-2a72c80f62d5/apply: 'NoneType' object has no attribute 'text'\n",
      "https://jobs.lever.co/wpromote/b448ebf8-97f1-4a94-a017-58a423055891/apply: 'NoneType' object has no attribute 'text'\n",
      "https://jobs.lever.co/TheAudioProgrammer/49e6013e-c85d-47b8-81a2-131b6038c0f8/apply: 'NoneType' object has no attribute 'text'\n",
      "https://jobs.lever.co/claypot/: 'NoneType' object has no attribute 'text'\n",
      "https://jobs.lever.co/lyrahealth?commitment=Intern: 'NoneType' object has no attribute 'text'\n",
      "https://boards.greenhouse.io/tripadvisor/jobs/4114954: 'NoneType' object has no attribute 'text'\n"
     ]
    },
    {
     "data": {
      "text/plain": [
       "12"
      ]
     },
     "execution_count": 16,
     "metadata": {},
     "output_type": "execute_result"
    }
   ],
   "source": [
    "count = 0\n",
    "for k, v in qj.crawl_error.items():\n",
    "    if 'workable' not in k:\n",
    "        print(f'{k}: {v}')\n",
    "        count += 1\n",
    "count"
   ]
  },
  {
   "cell_type": "code",
   "execution_count": 15,
   "metadata": {},
   "outputs": [
    {
     "data": {
      "text/plain": [
       "str"
      ]
     },
     "execution_count": 15,
     "metadata": {},
     "output_type": "execute_result"
    }
   ],
   "source": [
    "t = qj.lever['https://jobs.lever.co/marketer-hire/7e299b80-6776-4355-b786-0cdfc75fc11c/apply/'].lower()\n",
    "type(t)"
   ]
  },
  {
   "cell_type": "code",
   "execution_count": null,
   "metadata": {},
   "outputs": [],
   "source": []
  }
 ],
 "metadata": {
  "interpreter": {
   "hash": "b06b7587aa86c2efa03a5205e6bb0faee16c2bbf6c7b09347ab7cb9a7222dc97"
  },
  "kernelspec": {
   "display_name": "Python 3.10.2 ('qj-8DnUKxgI')",
   "language": "python",
   "name": "python3"
  },
  "language_info": {
   "codemirror_mode": {
    "name": "ipython",
    "version": 3
   },
   "file_extension": ".py",
   "mimetype": "text/x-python",
   "name": "python",
   "nbconvert_exporter": "python",
   "pygments_lexer": "ipython3",
   "version": "3.10.2"
  },
  "orig_nbformat": 4
 },
 "nbformat": 4,
 "nbformat_minor": 2
}
