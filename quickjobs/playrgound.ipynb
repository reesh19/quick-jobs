{
 "cells": [
  {
   "cell_type": "code",
   "execution_count": 13,
   "metadata": {},
   "outputs": [
    {
     "name": "stdout",
     "output_type": "stream",
     "text": [
      "\n",
      "max_results : 150\n",
      "n_days : 1\n",
      "queries : 5\n",
      "new_jobs : 0\n",
      "old_jobs : 1421\n",
      "crawl_error : 0\n",
      "\n",
      "\"Data Scientist\" OR \"Data Engineer\" OR \"Machine Learning\" OR \"Data Strategist\" OR \"Data Analyst\" OR \"Software Engineer\" Remote -\"Director\" -\"Principal\" -\"Lead\" -\"III\" site:jobs.lever.co/* after:2022-05-24\n"
     ]
    }
   ],
   "source": [
    "from quickjobs import QuickJobs\n",
    "# from bs4 import BeautifulSoup as bs\n",
    "# import requests\n",
    "\n",
    "qj = QuickJobs(multiple_hires=False, n_days=1)\n",
    "\n",
    "# atts = list(qj.__dict__.keys())\n",
    "print()\n",
    "num_atts = ['max_results', 'n_days']\n",
    "text_attrs = ['queries', 'new_jobs', 'old_jobs', 'crawl_error']\n",
    "for i in num_atts:\n",
    "    print(f\"{i} : {getattr(qj, i)}\")\n",
    "\n",
    "for i in text_attrs:\n",
    "    print(f\"{i} : {len(getattr(qj, i))}\")\n",
    "print()\n",
    "print(qj.queries[0])\n"
   ]
  },
  {
   "cell_type": "code",
   "execution_count": 2,
   "metadata": {},
   "outputs": [],
   "source": [
    "# %store -r\n",
    "# qj.lever = lever\n",
    "# qj.workable = workable\n",
    "# qj.greenhouse = greenhouse\n",
    "# qj.jobvite = jobvite\n",
    "# qj.builtin = builtin\n",
    "# qj.other = other\n",
    "external = \"\"\" \"\"\".split('\\n')\n",
    "external = [i for i in external if i.startswith('https')]\n",
    "qj.external_urls(external)"
   ]
  },
  {
   "cell_type": "code",
   "execution_count": 11,
   "metadata": {},
   "outputs": [],
   "source": [
    "qj.max_results=50\n",
    "\n",
    "qj.crawl()\n",
    "qj.save_jobs()\n",
    "print(qj)\n",
    "\n",
    "# lever = qj.lever\n",
    "# greenhouse = qj.greenhouse\n",
    "# workable = qj.workable\n",
    "# jobvite = qj.jobvite\n",
    "# builtin = qj.builtin\n",
    "# other = qj.other\n",
    "\n",
    "# %store lever greenhouse workable jobvite builtin other"
   ]
  },
  {
   "cell_type": "code",
   "execution_count": null,
   "metadata": {},
   "outputs": [],
   "source": [
    "qj.lever_apps()\n",
    "# qj.workable_apps()\n",
    "# qj.greenhouse = {'https://boards.greenhouse.io/virtahealth/jobs/4270461/#app':None}\n",
    "# qj.greenhouse_apps()\n",
    "# qj.jobvite_apps()\n",
    "# qj.builtin_apps()\n",
    "# qj.other_apps()"
   ]
  },
  {
   "cell_type": "code",
   "execution_count": null,
   "metadata": {},
   "outputs": [],
   "source": [
    "# %store -r\n",
    "# qj.lever = lever \n",
    "# qj.workable = workable\n",
    "# qj.jobvite = jobvite\n",
    "# qj.builtin = builtin\n",
    "# qj.greenhouse = greenhouse\n",
    "# qj.other = other"
   ]
  },
  {
   "cell_type": "code",
   "execution_count": null,
   "metadata": {},
   "outputs": [],
   "source": [
    "# import json\n",
    "# path = '/Users/reesh/Projects/qj/quickjobs/data/servers.geojson'\n",
    "# with open(path, 'r') as f:\n",
    "#     servers = json.load(f)\n",
    "\n",
    "# hosts = {i:servers[i]['properties']['hostname'] for i in range(len(servers))}\n",
    "#                                     # if servers[i]['properties']['hostname']}\n",
    "# _se = {i:servers[i]['properties']['hostname'] for i in range(len(servers)) if servers[i]['properties']['hostname']}\n",
    "# _se"
   ]
  },
  {
   "cell_type": "code",
   "execution_count": null,
   "metadata": {},
   "outputs": [],
   "source": [
    "# import time\n",
    "# import requests\n",
    "# from googlesearch import search\n",
    "# from bs4 import BeautifulSoup as bs\n",
    "\n",
    "\n",
    "# def gcrawl(query):\n",
    "#     session = requests.Session()\n",
    "#     session.headers['User-Agent'] = qj.agent\n",
    "\n",
    "#     results = dict()\n",
    "#     errors = dict()\n",
    "    \n",
    "#     for url in search(query=query, stop=20, pause=2, user_agent=qj.agent):\n",
    "#         if url not in results:\n",
    "#             try:\n",
    "#                 req = session.get(url)\n",
    "#                 soup = bs(req.content, 'html.parser')\n",
    "#                 results[url] = soup\n",
    "\n",
    "#             except Exception as e:\n",
    "#                 errors[url] = e\n",
    "    \n",
    "#         time.sleep(qj.rand)\n",
    "\n",
    "#     return results, errors"
   ]
  },
  {
   "cell_type": "code",
   "execution_count": null,
   "metadata": {},
   "outputs": [],
   "source": [
    "\"bassinet\" OR \"Bassinet\" site:jobs.lever.co/* after:2022-05-17"
   ]
  }
 ],
 "metadata": {
  "interpreter": {
   "hash": "b06b7587aa86c2efa03a5205e6bb0faee16c2bbf6c7b09347ab7cb9a7222dc97"
  },
  "kernelspec": {
   "display_name": "Python 3.10.2 ('qj-8DnUKxgI')",
   "language": "python",
   "name": "python3"
  },
  "language_info": {
   "codemirror_mode": {
    "name": "ipython",
    "version": 3
   },
   "file_extension": ".py",
   "mimetype": "text/x-python",
   "name": "python",
   "nbconvert_exporter": "python",
   "pygments_lexer": "ipython3",
   "version": "3.10.4"
  },
  "orig_nbformat": 4
 },
 "nbformat": 4,
 "nbformat_minor": 2
}
