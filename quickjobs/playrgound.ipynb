{
 "cells": [
  {
   "cell_type": "code",
   "execution_count": 1,
   "metadata": {},
   "outputs": [],
   "source": [
    "from mode3 import QuickJobs"
   ]
  },
  {
   "cell_type": "code",
   "execution_count": 2,
   "metadata": {},
   "outputs": [],
   "source": [
    "qj = QuickJobs(job_titles='ds')"
   ]
  },
  {
   "cell_type": "code",
   "execution_count": 3,
   "metadata": {},
   "outputs": [
    {
     "data": {
      "text/plain": [
       "['\"data analyst\" OR \"data scientist\" OR \"machine learning\" remote -Director -Principal -Lead -Senior -Sr. site:jobs.lever.co/* after:2022-03-27',\n",
       " '\"data analyst\" OR \"data scientist\" OR \"machine learning\" remote -Director -Principal -Lead -Senior -Sr. site:apply.workable.com/* after:2022-03-27',\n",
       " '\"data analyst\" OR \"data scientist\" OR \"machine learning\" remote -Director -Principal -Lead -Senior -Sr. site:boards.greenhouse.io/*/jobs after:2022-03-27',\n",
       " '\"data analyst\" OR \"data scientist\" OR \"machine learning\" remote -Director -Principal -Lead -Senior -Sr. site:jobs.jobvite.com after:2022-03-27',\n",
       " '\"data analyst\" OR \"data scientist\" OR \"machine learning\" remote -Director -Principal -Lead -Senior -Sr. site:builtin.com/job/* after:2022-03-27']"
      ]
     },
     "execution_count": 3,
     "metadata": {},
     "output_type": "execute_result"
    }
   ],
   "source": [
    "qj.queries"
   ]
  },
  {
   "cell_type": "code",
   "execution_count": 5,
   "metadata": {},
   "outputs": [],
   "source": [
    "qj.crawler()"
   ]
  },
  {
   "cell_type": "code",
   "execution_count": 6,
   "metadata": {},
   "outputs": [
    {
     "name": "stdout",
     "output_type": "stream",
     "text": [
      "Found 0 new jobs in the past 5 days. \n",
      "\n",
      "Lever : 21\n",
      "Workable : 10\n",
      "Greenhouse : 14\n",
      "Jobvite : 2\n",
      "Builtin : 0\n",
      "Other : 1\n"
     ]
    }
   ],
   "source": [
    "print(qj, '\\n')\n",
    "for i, j in zip(['Lever', 'Workable', 'Greenhouse', 'Jobvite', 'Builtin', 'Other'],[qj.lever, qj.workable, qj.greenhouse, qj.jobvite, qj.builtin, qj.other]):\n",
    "    print(f'{i} : {len(j)}')\n",
    "\n"
   ]
  },
  {
   "cell_type": "code",
   "execution_count": null,
   "metadata": {},
   "outputs": [],
   "source": []
  }
 ],
 "metadata": {
  "interpreter": {
   "hash": "b06b7587aa86c2efa03a5205e6bb0faee16c2bbf6c7b09347ab7cb9a7222dc97"
  },
  "kernelspec": {
   "display_name": "Python 3.10.2 ('qj-8DnUKxgI')",
   "language": "python",
   "name": "python3"
  },
  "language_info": {
   "codemirror_mode": {
    "name": "ipython",
    "version": 3
   },
   "file_extension": ".py",
   "mimetype": "text/x-python",
   "name": "python",
   "nbconvert_exporter": "python",
   "pygments_lexer": "ipython3",
   "version": "3.10.2"
  },
  "orig_nbformat": 4
 },
 "nbformat": 4,
 "nbformat_minor": 2
}
